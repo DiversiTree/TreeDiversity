{
 "cells": [
  {
   "cell_type": "code",
   "execution_count": 1,
   "metadata": {},
   "outputs": [],
   "source": [
    "# library import\n",
    "import pandas as pd\n",
    "import geopandas as gpd\n",
    "import numpy as np\n",
    "import math\n",
    "import fiona\n",
    "from IPython import display\n",
    "import treeParsing as tP"
   ]
  },
  {
   "cell_type": "markdown",
   "metadata": {},
   "source": [
    "# Import Geometry"
   ]
  },
  {
   "cell_type": "code",
   "execution_count": 2,
   "metadata": {},
   "outputs": [],
   "source": [
    "city = \"bologna\""
   ]
  },
  {
   "cell_type": "code",
   "execution_count": 3,
   "metadata": {},
   "outputs": [],
   "source": [
    "# geom and dataimport\n",
    "fNameGrid = f\"../01_GIS/CityBoundaries/{city}.gpkg\"\n",
    "fNameTrees = f\"../01_GIS/TreeInventories/bologna_street_trees_84.gpkg\"\n",
    "\n",
    "grid = gpd.read_file(fNameGrid)\n",
    "grid[\"fid\"]=list(grid.index)\n",
    "trees = gpd.read_file(fNameTrees)\n",
    "\n",
    "plantTaxonomy = pd.read_csv(\"../03_DATA/plantTaxonomy.csv\")"
   ]
  },
  {
   "cell_type": "markdown",
   "metadata": {},
   "source": [
    "# Calculate Basal and Clean Data"
   ]
  },
  {
   "cell_type": "code",
   "execution_count": 4,
   "metadata": {},
   "outputs": [
    {
     "data": {
      "text/html": [
       "<div>\n",
       "<style scoped>\n",
       "    .dataframe tbody tr th:only-of-type {\n",
       "        vertical-align: middle;\n",
       "    }\n",
       "\n",
       "    .dataframe tbody tr th {\n",
       "        vertical-align: top;\n",
       "    }\n",
       "\n",
       "    .dataframe thead th {\n",
       "        text-align: right;\n",
       "    }\n",
       "</style>\n",
       "<table border=\"1\" class=\"dataframe\">\n",
       "  <thead>\n",
       "    <tr style=\"text-align: right;\">\n",
       "      <th></th>\n",
       "      <th>NUM_PT</th>\n",
       "      <th>COD_UG</th>\n",
       "      <th>SPECIE</th>\n",
       "      <th>CL_H</th>\n",
       "      <th>CL_CIRC</th>\n",
       "      <th>PREGIO</th>\n",
       "      <th>decodifica</th>\n",
       "      <th>decodifi_2</th>\n",
       "      <th>decodifi_4</th>\n",
       "      <th>geometry</th>\n",
       "    </tr>\n",
       "  </thead>\n",
       "  <tbody>\n",
       "    <tr>\n",
       "      <th>0</th>\n",
       "      <td>95784</td>\n",
       "      <td>1</td>\n",
       "      <td>Rp</td>\n",
       "      <td>3</td>\n",
       "      <td>C5</td>\n",
       "      <td>N</td>\n",
       "      <td>12 - 16</td>\n",
       "      <td>75 - 90 (19-28 cm)</td>\n",
       "      <td>Robinia pseudoacacia</td>\n",
       "      <td>POINT (11.30020 44.49657)</td>\n",
       "    </tr>\n",
       "    <tr>\n",
       "      <th>1</th>\n",
       "      <td>95787</td>\n",
       "      <td>1</td>\n",
       "      <td>Rp</td>\n",
       "      <td>3</td>\n",
       "      <td>C6</td>\n",
       "      <td>N</td>\n",
       "      <td>12 - 16</td>\n",
       "      <td>90 - 110 (28-35cm)</td>\n",
       "      <td>Robinia pseudoacacia</td>\n",
       "      <td>POINT (11.30035 44.49675)</td>\n",
       "    </tr>\n",
       "    <tr>\n",
       "      <th>2</th>\n",
       "      <td>7963</td>\n",
       "      <td>3167</td>\n",
       "      <td>Cel</td>\n",
       "      <td>3</td>\n",
       "      <td>C8</td>\n",
       "      <td>N</td>\n",
       "      <td>12 - 16</td>\n",
       "      <td>140 - 170 (45-54cm)</td>\n",
       "      <td>Celtis australis</td>\n",
       "      <td>POINT (11.36547 44.49536)</td>\n",
       "    </tr>\n",
       "    <tr>\n",
       "      <th>3</th>\n",
       "      <td>7993</td>\n",
       "      <td>3227</td>\n",
       "      <td>Pla</td>\n",
       "      <td>5</td>\n",
       "      <td>C9</td>\n",
       "      <td>N</td>\n",
       "      <td>&gt;23</td>\n",
       "      <td>170 - 200 (54-64 cm)</td>\n",
       "      <td>Platanus acerifolia</td>\n",
       "      <td>POINT (11.36643 44.49619)</td>\n",
       "    </tr>\n",
       "    <tr>\n",
       "      <th>4</th>\n",
       "      <td>95851</td>\n",
       "      <td>1</td>\n",
       "      <td>Tilp</td>\n",
       "      <td>2</td>\n",
       "      <td>C2</td>\n",
       "      <td>N</td>\n",
       "      <td>6 - 12</td>\n",
       "      <td>15 - 30 (5-10 cm)</td>\n",
       "      <td>Tilia platyphyllos</td>\n",
       "      <td>POINT (11.29967 44.49535)</td>\n",
       "    </tr>\n",
       "  </tbody>\n",
       "</table>\n",
       "</div>"
      ],
      "text/plain": [
       "   NUM_PT  COD_UG SPECIE CL_H CL_CIRC PREGIO decodifica            decodifi_2  \\\n",
       "0   95784       1     Rp    3      C5      N    12 - 16    75 - 90 (19-28 cm)   \n",
       "1   95787       1     Rp    3      C6      N    12 - 16    90 - 110 (28-35cm)   \n",
       "2    7963    3167    Cel    3      C8      N    12 - 16   140 - 170 (45-54cm)   \n",
       "3    7993    3227    Pla    5      C9      N        >23  170 - 200 (54-64 cm)   \n",
       "4   95851       1   Tilp    2      C2      N     6 - 12     15 - 30 (5-10 cm)   \n",
       "\n",
       "             decodifi_4                   geometry  \n",
       "0  Robinia pseudoacacia  POINT (11.30020 44.49657)  \n",
       "1  Robinia pseudoacacia  POINT (11.30035 44.49675)  \n",
       "2      Celtis australis  POINT (11.36547 44.49536)  \n",
       "3   Platanus acerifolia  POINT (11.36643 44.49619)  \n",
       "4    Tilia platyphyllos  POINT (11.29967 44.49535)  "
      ]
     },
     "execution_count": 4,
     "metadata": {},
     "output_type": "execute_result"
    }
   ],
   "source": [
    "trees.head()"
   ]
  },
  {
   "cell_type": "code",
   "execution_count": 5,
   "metadata": {},
   "outputs": [],
   "source": [
    "diamTranslate = {\n",
    "    '75 - 90 (19-28 cm)':23.5, \n",
    "    '90 - 110 (28-35cm)':31.5, \n",
    "    '140 - 170 (45-54cm)':49.5,\n",
    "    '170 - 200 (54-64 cm)':59, \n",
    "    '15 - 30 (5-10 cm)':7.5,\n",
    "    '110 - 140 (35-45 cm)':40, \n",
    "    '45 - 60 (15-19 cm)':17,\n",
    "    '200 - 230 (64-73 cm)':68.5, \n",
    "    '< 15 (5 cm)':5, \n",
    "    None:0, \n",
    "    '230 - 260 (73-80cm)':76.5,\n",
    "    '30 - 45 (10 -15cm)':12.5\n",
    "}"
   ]
  },
  {
   "cell_type": "code",
   "execution_count": 6,
   "metadata": {},
   "outputs": [],
   "source": [
    "trees['DBH'] = trees['decodifi_2'].map(diamTranslate)\n",
    "trees = trees[trees[\"DBH\"]>0]\n",
    "trees = trees[trees[\"DBH\"]<=trees.quantile(0.99).DBH]\n",
    "trees['BasalArea'] = trees['DBH']**2 * 0.00007854"
   ]
  },
  {
   "cell_type": "code",
   "execution_count": 7,
   "metadata": {},
   "outputs": [
    {
     "data": {
      "text/plain": [
       "24.385771357515146"
      ]
     },
     "execution_count": 7,
     "metadata": {},
     "output_type": "execute_result"
    }
   ],
   "source": [
    "trees[\"DBH\"].mean()"
   ]
  },
  {
   "cell_type": "code",
   "execution_count": 8,
   "metadata": {},
   "outputs": [
    {
     "data": {
      "text/html": [
       "<div>\n",
       "<style scoped>\n",
       "    .dataframe tbody tr th:only-of-type {\n",
       "        vertical-align: middle;\n",
       "    }\n",
       "\n",
       "    .dataframe tbody tr th {\n",
       "        vertical-align: top;\n",
       "    }\n",
       "\n",
       "    .dataframe thead th {\n",
       "        text-align: right;\n",
       "    }\n",
       "</style>\n",
       "<table border=\"1\" class=\"dataframe\">\n",
       "  <thead>\n",
       "    <tr style=\"text-align: right;\">\n",
       "      <th></th>\n",
       "      <th>NUM_PT</th>\n",
       "      <th>COD_UG</th>\n",
       "      <th>SPECIE</th>\n",
       "      <th>CL_H</th>\n",
       "      <th>CL_CIRC</th>\n",
       "      <th>PREGIO</th>\n",
       "      <th>decodifica</th>\n",
       "      <th>decodifi_2</th>\n",
       "      <th>decodifi_4</th>\n",
       "      <th>geometry</th>\n",
       "      <th>DBH</th>\n",
       "      <th>BasalArea</th>\n",
       "    </tr>\n",
       "  </thead>\n",
       "  <tbody>\n",
       "    <tr>\n",
       "      <th>49484</th>\n",
       "      <td>22535</td>\n",
       "      <td>536</td>\n",
       "      <td>Poc</td>\n",
       "      <td>5</td>\n",
       "      <td>C10</td>\n",
       "      <td>N</td>\n",
       "      <td>&gt;23</td>\n",
       "      <td>200 - 230 (64-73 cm)</td>\n",
       "      <td>None</td>\n",
       "      <td>POINT (11.38726 44.47041)</td>\n",
       "      <td>68.5</td>\n",
       "      <td>0.368529</td>\n",
       "    </tr>\n",
       "    <tr>\n",
       "      <th>32631</th>\n",
       "      <td>756</td>\n",
       "      <td>8</td>\n",
       "      <td>Pon</td>\n",
       "      <td>4</td>\n",
       "      <td>C10</td>\n",
       "      <td>N</td>\n",
       "      <td>16 - 23</td>\n",
       "      <td>200 - 230 (64-73 cm)</td>\n",
       "      <td>Populus nigra</td>\n",
       "      <td>POINT (11.33360 44.52110)</td>\n",
       "      <td>68.5</td>\n",
       "      <td>0.368529</td>\n",
       "    </tr>\n",
       "    <tr>\n",
       "      <th>34039</th>\n",
       "      <td>87572</td>\n",
       "      <td>2790</td>\n",
       "      <td>Cda2</td>\n",
       "      <td>4</td>\n",
       "      <td>C10</td>\n",
       "      <td>N</td>\n",
       "      <td>16 - 23</td>\n",
       "      <td>200 - 230 (64-73 cm)</td>\n",
       "      <td>Cedrus atlantica \"Glauca\"</td>\n",
       "      <td>POINT (11.37493 44.46383)</td>\n",
       "      <td>68.5</td>\n",
       "      <td>0.368529</td>\n",
       "    </tr>\n",
       "    <tr>\n",
       "      <th>33605</th>\n",
       "      <td>2045</td>\n",
       "      <td>44</td>\n",
       "      <td>Aei</td>\n",
       "      <td>4</td>\n",
       "      <td>C10</td>\n",
       "      <td>N</td>\n",
       "      <td>16 - 23</td>\n",
       "      <td>200 - 230 (64-73 cm)</td>\n",
       "      <td>Aesculus hippocastanum</td>\n",
       "      <td>POINT (11.35008 44.48498)</td>\n",
       "      <td>68.5</td>\n",
       "      <td>0.368529</td>\n",
       "    </tr>\n",
       "    <tr>\n",
       "      <th>72104</th>\n",
       "      <td>48911</td>\n",
       "      <td>1430</td>\n",
       "      <td>Pla</td>\n",
       "      <td>5</td>\n",
       "      <td>C10</td>\n",
       "      <td>N</td>\n",
       "      <td>&gt;23</td>\n",
       "      <td>200 - 230 (64-73 cm)</td>\n",
       "      <td>Platanus acerifolia</td>\n",
       "      <td>POINT (11.33825 44.50481)</td>\n",
       "      <td>68.5</td>\n",
       "      <td>0.368529</td>\n",
       "    </tr>\n",
       "    <tr>\n",
       "      <th>...</th>\n",
       "      <td>...</td>\n",
       "      <td>...</td>\n",
       "      <td>...</td>\n",
       "      <td>...</td>\n",
       "      <td>...</td>\n",
       "      <td>...</td>\n",
       "      <td>...</td>\n",
       "      <td>...</td>\n",
       "      <td>...</td>\n",
       "      <td>...</td>\n",
       "      <td>...</td>\n",
       "      <td>...</td>\n",
       "    </tr>\n",
       "    <tr>\n",
       "      <th>75833</th>\n",
       "      <td>80166</td>\n",
       "      <td>2016</td>\n",
       "      <td>Cdd</td>\n",
       "      <td>5</td>\n",
       "      <td>C10</td>\n",
       "      <td>N</td>\n",
       "      <td>&gt;23</td>\n",
       "      <td>200 - 230 (64-73 cm)</td>\n",
       "      <td>Cedrus deodara</td>\n",
       "      <td>POINT (11.39814 44.51221)</td>\n",
       "      <td>68.5</td>\n",
       "      <td>0.368529</td>\n",
       "    </tr>\n",
       "    <tr>\n",
       "      <th>47168</th>\n",
       "      <td>5118</td>\n",
       "      <td>3039</td>\n",
       "      <td>Cel</td>\n",
       "      <td>4</td>\n",
       "      <td>C10</td>\n",
       "      <td>N</td>\n",
       "      <td>16 - 23</td>\n",
       "      <td>200 - 230 (64-73 cm)</td>\n",
       "      <td>Celtis australis</td>\n",
       "      <td>POINT (11.38346 44.47493)</td>\n",
       "      <td>68.5</td>\n",
       "      <td>0.368529</td>\n",
       "    </tr>\n",
       "    <tr>\n",
       "      <th>42158</th>\n",
       "      <td>34814</td>\n",
       "      <td>3334</td>\n",
       "      <td>Qus</td>\n",
       "      <td>5</td>\n",
       "      <td>C10</td>\n",
       "      <td>N</td>\n",
       "      <td>&gt;23</td>\n",
       "      <td>200 - 230 (64-73 cm)</td>\n",
       "      <td>Quercus petraea</td>\n",
       "      <td>POINT (11.25568 44.50236)</td>\n",
       "      <td>68.5</td>\n",
       "      <td>0.368529</td>\n",
       "    </tr>\n",
       "    <tr>\n",
       "      <th>3902</th>\n",
       "      <td>50422</td>\n",
       "      <td>1981</td>\n",
       "      <td>Pla</td>\n",
       "      <td>4</td>\n",
       "      <td>C10</td>\n",
       "      <td>N</td>\n",
       "      <td>16 - 23</td>\n",
       "      <td>200 - 230 (64-73 cm)</td>\n",
       "      <td>Platanus acerifolia</td>\n",
       "      <td>POINT (11.37224 44.50074)</td>\n",
       "      <td>68.5</td>\n",
       "      <td>0.368529</td>\n",
       "    </tr>\n",
       "    <tr>\n",
       "      <th>39633</th>\n",
       "      <td>58024</td>\n",
       "      <td>1062</td>\n",
       "      <td>Tg1</td>\n",
       "      <td>5</td>\n",
       "      <td>C10</td>\n",
       "      <td>N</td>\n",
       "      <td>&gt;23</td>\n",
       "      <td>200 - 230 (64-73 cm)</td>\n",
       "      <td>Tilia intermedia</td>\n",
       "      <td>POINT (11.33993 44.51960)</td>\n",
       "      <td>68.5</td>\n",
       "      <td>0.368529</td>\n",
       "    </tr>\n",
       "  </tbody>\n",
       "</table>\n",
       "<p>100 rows × 12 columns</p>\n",
       "</div>"
      ],
      "text/plain": [
       "       NUM_PT  COD_UG SPECIE CL_H CL_CIRC PREGIO decodifica  \\\n",
       "49484   22535     536    Poc    5     C10      N        >23   \n",
       "32631     756       8    Pon    4     C10      N    16 - 23   \n",
       "34039   87572    2790   Cda2    4     C10      N    16 - 23   \n",
       "33605    2045      44    Aei    4     C10      N    16 - 23   \n",
       "72104   48911    1430    Pla    5     C10      N        >23   \n",
       "...       ...     ...    ...  ...     ...    ...        ...   \n",
       "75833   80166    2016    Cdd    5     C10      N        >23   \n",
       "47168    5118    3039    Cel    4     C10      N    16 - 23   \n",
       "42158   34814    3334    Qus    5     C10      N        >23   \n",
       "3902    50422    1981    Pla    4     C10      N    16 - 23   \n",
       "39633   58024    1062    Tg1    5     C10      N        >23   \n",
       "\n",
       "                 decodifi_2                 decodifi_4  \\\n",
       "49484  200 - 230 (64-73 cm)                       None   \n",
       "32631  200 - 230 (64-73 cm)              Populus nigra   \n",
       "34039  200 - 230 (64-73 cm)  Cedrus atlantica \"Glauca\"   \n",
       "33605  200 - 230 (64-73 cm)     Aesculus hippocastanum   \n",
       "72104  200 - 230 (64-73 cm)        Platanus acerifolia   \n",
       "...                     ...                        ...   \n",
       "75833  200 - 230 (64-73 cm)             Cedrus deodara   \n",
       "47168  200 - 230 (64-73 cm)           Celtis australis   \n",
       "42158  200 - 230 (64-73 cm)            Quercus petraea   \n",
       "3902   200 - 230 (64-73 cm)        Platanus acerifolia   \n",
       "39633  200 - 230 (64-73 cm)           Tilia intermedia   \n",
       "\n",
       "                        geometry   DBH  BasalArea  \n",
       "49484  POINT (11.38726 44.47041)  68.5   0.368529  \n",
       "32631  POINT (11.33360 44.52110)  68.5   0.368529  \n",
       "34039  POINT (11.37493 44.46383)  68.5   0.368529  \n",
       "33605  POINT (11.35008 44.48498)  68.5   0.368529  \n",
       "72104  POINT (11.33825 44.50481)  68.5   0.368529  \n",
       "...                          ...   ...        ...  \n",
       "75833  POINT (11.39814 44.51221)  68.5   0.368529  \n",
       "47168  POINT (11.38346 44.47493)  68.5   0.368529  \n",
       "42158  POINT (11.25568 44.50236)  68.5   0.368529  \n",
       "3902   POINT (11.37224 44.50074)  68.5   0.368529  \n",
       "39633  POINT (11.33993 44.51960)  68.5   0.368529  \n",
       "\n",
       "[100 rows x 12 columns]"
      ]
     },
     "execution_count": 8,
     "metadata": {},
     "output_type": "execute_result"
    }
   ],
   "source": [
    "trees.sort_values(\"DBH\",ascending=False).head(100)"
   ]
  },
  {
   "cell_type": "code",
   "execution_count": 9,
   "metadata": {},
   "outputs": [],
   "source": [
    "scientificNameCol = \"decodifi_4\"\n",
    "splitNameCols = ['CleanGenus','CleanSpecies',\"HybridPlaceholder1\",\"HybridPlaceholder2\",\"HybridPlaceholder3\",\"HybridPlaceholder4\",\"HybridPlaceholder5\"]"
   ]
  },
  {
   "cell_type": "code",
   "execution_count": 10,
   "metadata": {},
   "outputs": [],
   "source": [
    "# data cleaning and merging\n",
    "cleanTrees = trees[trees[scientificNameCol].notnull()][[\"geometry\",scientificNameCol, \"BasalArea\"]]\n",
    "cleanTrees[\"Scientific\"] = cleanTrees[scientificNameCol].str.title().str.replace('?','')\n",
    "\n",
    "nameCols = splitNameCols[:len(cleanTrees[\"Scientific\"].str.split(\" \",expand=True,).iloc[0])]\n",
    "\n",
    "cleanTrees[nameCols] = cleanTrees[\"Scientific\"].str.split(\" \",expand=True,)\n",
    "cleanTrees = cleanTrees.merge(plantTaxonomy, how=\"left\", left_on=\"CleanGenus\", right_on=\"genus\", suffixes={\"\",\"_taxa\"})"
   ]
  },
  {
   "cell_type": "code",
   "execution_count": 11,
   "metadata": {},
   "outputs": [
    {
     "data": {
      "text/html": [
       "<div>\n",
       "<style scoped>\n",
       "    .dataframe tbody tr th:only-of-type {\n",
       "        vertical-align: middle;\n",
       "    }\n",
       "\n",
       "    .dataframe tbody tr th {\n",
       "        vertical-align: top;\n",
       "    }\n",
       "\n",
       "    .dataframe thead th {\n",
       "        text-align: right;\n",
       "    }\n",
       "</style>\n",
       "<table border=\"1\" class=\"dataframe\">\n",
       "  <thead>\n",
       "    <tr style=\"text-align: right;\">\n",
       "      <th></th>\n",
       "      <th>geometry</th>\n",
       "      <th>decodifi_4</th>\n",
       "      <th>BasalArea</th>\n",
       "      <th>Scientific</th>\n",
       "      <th>CleanGenus</th>\n",
       "      <th>CleanSpecies</th>\n",
       "      <th>HybridPlaceholder1</th>\n",
       "      <th>HybridPlaceholder2</th>\n",
       "      <th>HybridPlaceholder3</th>\n",
       "      <th>genus</th>\n",
       "      <th>family</th>\n",
       "      <th>superfamily</th>\n",
       "      <th>class</th>\n",
       "      <th>order</th>\n",
       "      <th>phylum</th>\n",
       "      <th>kingdom</th>\n",
       "    </tr>\n",
       "  </thead>\n",
       "  <tbody>\n",
       "    <tr>\n",
       "      <th>0</th>\n",
       "      <td>POINT (11.30020 44.49657)</td>\n",
       "      <td>Robinia pseudoacacia</td>\n",
       "      <td>0.043374</td>\n",
       "      <td>Robinia Pseudoacacia</td>\n",
       "      <td>Robinia</td>\n",
       "      <td>Pseudoacacia</td>\n",
       "      <td>None</td>\n",
       "      <td>None</td>\n",
       "      <td>None</td>\n",
       "      <td>Robinia</td>\n",
       "      <td>Fabaceae</td>\n",
       "      <td>None</td>\n",
       "      <td>Magnoliopsida</td>\n",
       "      <td>Fabales</td>\n",
       "      <td>Tracheophyta</td>\n",
       "      <td>Plantae</td>\n",
       "    </tr>\n",
       "    <tr>\n",
       "      <th>1</th>\n",
       "      <td>POINT (11.30035 44.49675)</td>\n",
       "      <td>Robinia pseudoacacia</td>\n",
       "      <td>0.077931</td>\n",
       "      <td>Robinia Pseudoacacia</td>\n",
       "      <td>Robinia</td>\n",
       "      <td>Pseudoacacia</td>\n",
       "      <td>None</td>\n",
       "      <td>None</td>\n",
       "      <td>None</td>\n",
       "      <td>Robinia</td>\n",
       "      <td>Fabaceae</td>\n",
       "      <td>None</td>\n",
       "      <td>Magnoliopsida</td>\n",
       "      <td>Fabales</td>\n",
       "      <td>Tracheophyta</td>\n",
       "      <td>Plantae</td>\n",
       "    </tr>\n",
       "    <tr>\n",
       "      <th>2</th>\n",
       "      <td>POINT (11.36547 44.49536)</td>\n",
       "      <td>Celtis australis</td>\n",
       "      <td>0.192443</td>\n",
       "      <td>Celtis Australis</td>\n",
       "      <td>Celtis</td>\n",
       "      <td>Australis</td>\n",
       "      <td>None</td>\n",
       "      <td>None</td>\n",
       "      <td>None</td>\n",
       "      <td>Celtis</td>\n",
       "      <td>Cannabaceae</td>\n",
       "      <td>None</td>\n",
       "      <td>Magnoliopsida</td>\n",
       "      <td>Rosales</td>\n",
       "      <td>Tracheophyta</td>\n",
       "      <td>Plantae</td>\n",
       "    </tr>\n",
       "    <tr>\n",
       "      <th>3</th>\n",
       "      <td>POINT (11.36643 44.49619)</td>\n",
       "      <td>Platanus acerifolia</td>\n",
       "      <td>0.273398</td>\n",
       "      <td>Platanus Acerifolia</td>\n",
       "      <td>Platanus</td>\n",
       "      <td>Acerifolia</td>\n",
       "      <td>None</td>\n",
       "      <td>None</td>\n",
       "      <td>None</td>\n",
       "      <td>Platanus</td>\n",
       "      <td>Platanaceae</td>\n",
       "      <td>None</td>\n",
       "      <td>Magnoliopsida</td>\n",
       "      <td>Proteales</td>\n",
       "      <td>Tracheophyta</td>\n",
       "      <td>Plantae</td>\n",
       "    </tr>\n",
       "    <tr>\n",
       "      <th>4</th>\n",
       "      <td>POINT (11.29967 44.49535)</td>\n",
       "      <td>Tilia platyphyllos</td>\n",
       "      <td>0.004418</td>\n",
       "      <td>Tilia Platyphyllos</td>\n",
       "      <td>Tilia</td>\n",
       "      <td>Platyphyllos</td>\n",
       "      <td>None</td>\n",
       "      <td>None</td>\n",
       "      <td>None</td>\n",
       "      <td>Tilia</td>\n",
       "      <td>Malvaceae</td>\n",
       "      <td>None</td>\n",
       "      <td>Magnoliopsida</td>\n",
       "      <td>Malvales</td>\n",
       "      <td>Tracheophyta</td>\n",
       "      <td>Plantae</td>\n",
       "    </tr>\n",
       "  </tbody>\n",
       "</table>\n",
       "</div>"
      ],
      "text/plain": [
       "                    geometry            decodifi_4  BasalArea  \\\n",
       "0  POINT (11.30020 44.49657)  Robinia pseudoacacia   0.043374   \n",
       "1  POINT (11.30035 44.49675)  Robinia pseudoacacia   0.077931   \n",
       "2  POINT (11.36547 44.49536)      Celtis australis   0.192443   \n",
       "3  POINT (11.36643 44.49619)   Platanus acerifolia   0.273398   \n",
       "4  POINT (11.29967 44.49535)    Tilia platyphyllos   0.004418   \n",
       "\n",
       "             Scientific CleanGenus  CleanSpecies HybridPlaceholder1  \\\n",
       "0  Robinia Pseudoacacia    Robinia  Pseudoacacia               None   \n",
       "1  Robinia Pseudoacacia    Robinia  Pseudoacacia               None   \n",
       "2      Celtis Australis     Celtis     Australis               None   \n",
       "3   Platanus Acerifolia   Platanus    Acerifolia               None   \n",
       "4    Tilia Platyphyllos      Tilia  Platyphyllos               None   \n",
       "\n",
       "  HybridPlaceholder2 HybridPlaceholder3     genus       family superfamily  \\\n",
       "0               None               None   Robinia     Fabaceae        None   \n",
       "1               None               None   Robinia     Fabaceae        None   \n",
       "2               None               None    Celtis  Cannabaceae        None   \n",
       "3               None               None  Platanus  Platanaceae        None   \n",
       "4               None               None     Tilia    Malvaceae        None   \n",
       "\n",
       "           class      order        phylum  kingdom  \n",
       "0  Magnoliopsida    Fabales  Tracheophyta  Plantae  \n",
       "1  Magnoliopsida    Fabales  Tracheophyta  Plantae  \n",
       "2  Magnoliopsida    Rosales  Tracheophyta  Plantae  \n",
       "3  Magnoliopsida  Proteales  Tracheophyta  Plantae  \n",
       "4  Magnoliopsida   Malvales  Tracheophyta  Plantae  "
      ]
     },
     "execution_count": 11,
     "metadata": {},
     "output_type": "execute_result"
    }
   ],
   "source": [
    "cleanTrees.head()"
   ]
  },
  {
   "cell_type": "code",
   "execution_count": 12,
   "metadata": {},
   "outputs": [
    {
     "data": {
      "text/html": [
       "<div>\n",
       "<style scoped>\n",
       "    .dataframe tbody tr th:only-of-type {\n",
       "        vertical-align: middle;\n",
       "    }\n",
       "\n",
       "    .dataframe tbody tr th {\n",
       "        vertical-align: top;\n",
       "    }\n",
       "\n",
       "    .dataframe thead th {\n",
       "        text-align: right;\n",
       "    }\n",
       "</style>\n",
       "<table border=\"1\" class=\"dataframe\">\n",
       "  <thead>\n",
       "    <tr style=\"text-align: right;\">\n",
       "      <th></th>\n",
       "      <th>Scientific</th>\n",
       "      <th>BasalArea</th>\n",
       "    </tr>\n",
       "  </thead>\n",
       "  <tbody>\n",
       "    <tr>\n",
       "      <th>0</th>\n",
       "      <td>Abies Alba</td>\n",
       "      <td>4.436764</td>\n",
       "    </tr>\n",
       "    <tr>\n",
       "      <th>1</th>\n",
       "      <td>Abies Nordmanniana</td>\n",
       "      <td>0.049087</td>\n",
       "    </tr>\n",
       "    <tr>\n",
       "      <th>2</th>\n",
       "      <td>Abies Pinsapo</td>\n",
       "      <td>0.017671</td>\n",
       "    </tr>\n",
       "    <tr>\n",
       "      <th>3</th>\n",
       "      <td>Acer Campestre</td>\n",
       "      <td>87.349419</td>\n",
       "    </tr>\n",
       "    <tr>\n",
       "      <th>4</th>\n",
       "      <td>Acer Davidii</td>\n",
       "      <td>0.004418</td>\n",
       "    </tr>\n",
       "    <tr>\n",
       "      <th>...</th>\n",
       "      <td>...</td>\n",
       "      <td>...</td>\n",
       "    </tr>\n",
       "    <tr>\n",
       "      <th>170</th>\n",
       "      <td>Ulmus Carpinifolia</td>\n",
       "      <td>67.415948</td>\n",
       "    </tr>\n",
       "    <tr>\n",
       "      <th>171</th>\n",
       "      <td>Ulmus Pumila</td>\n",
       "      <td>29.914158</td>\n",
       "    </tr>\n",
       "    <tr>\n",
       "      <th>172</th>\n",
       "      <td>Viburnum Tinus</td>\n",
       "      <td>0.043374</td>\n",
       "    </tr>\n",
       "    <tr>\n",
       "      <th>173</th>\n",
       "      <td>Wisteria Sinensis</td>\n",
       "      <td>0.198471</td>\n",
       "    </tr>\n",
       "    <tr>\n",
       "      <th>174</th>\n",
       "      <td>Yucca Gloriosa</td>\n",
       "      <td>0.001963</td>\n",
       "    </tr>\n",
       "  </tbody>\n",
       "</table>\n",
       "<p>175 rows × 2 columns</p>\n",
       "</div>"
      ],
      "text/plain": [
       "             Scientific  BasalArea\n",
       "0            Abies Alba   4.436764\n",
       "1    Abies Nordmanniana   0.049087\n",
       "2         Abies Pinsapo   0.017671\n",
       "3        Acer Campestre  87.349419\n",
       "4          Acer Davidii   0.004418\n",
       "..                  ...        ...\n",
       "170  Ulmus Carpinifolia  67.415948\n",
       "171        Ulmus Pumila  29.914158\n",
       "172      Viburnum Tinus   0.043374\n",
       "173   Wisteria Sinensis   0.198471\n",
       "174      Yucca Gloriosa   0.001963\n",
       "\n",
       "[175 rows x 2 columns]"
      ]
     },
     "execution_count": 12,
     "metadata": {},
     "output_type": "execute_result"
    }
   ],
   "source": [
    "cleanTrees.groupby('Scientific').sum().reset_index()"
   ]
  },
  {
   "cell_type": "markdown",
   "metadata": {},
   "source": [
    "# City Wide Figures"
   ]
  },
  {
   "cell_type": "code",
   "execution_count": 13,
   "metadata": {},
   "outputs": [
    {
     "name": "stdout",
     "output_type": "stream",
     "text": [
      "Most Abundant Species %: 0.15607756082127938\n",
      "Species Shannon Index: 3.2712228717496266\n",
      "Species Simpson Index: 0.9304863151877883\n",
      "Most Abundant Genus %: 0.15607756082127947\n",
      "Genus Shannon Index: 2.6739808843439183\n",
      "Genus Simpson Index: 0.9029945060527755\n",
      "Most Abundant Family %: 0.15723492316083953\n",
      "Family Shannon Index: 2.387752558846326\n",
      "Family Simpson Index: 0.8884818023740858\n",
      "\n"
     ]
    }
   ],
   "source": [
    "# species frequency and pct\n",
    "speciesCount = cleanTrees.groupby('Scientific').sum().reset_index().rename(columns={\"Scientific\":\"Species\",\"BasalArea\":\"Frequency\"})\n",
    "speciesCount[\"Pct\"] = speciesCount[\"Frequency\"]/sum(speciesCount['Frequency'])\n",
    "speciesShannon = tP.ShannonEntropy(list(speciesCount[\"Pct\"]))\n",
    "speciesSimpson = tP.simpson_di(list(speciesCount['Species']), list(speciesCount['Frequency']))\n",
    "\n",
    "# genus frequency and pct\n",
    "genusCount = cleanTrees.groupby('CleanGenus').sum().reset_index().rename(columns={\"CleanGenus\":\"Genus\",\"BasalArea\":\"Frequency\"})\n",
    "genusCount[\"Pct\"] = genusCount[\"Frequency\"]/sum(genusCount['Frequency'])\n",
    "genusShannon = tP.ShannonEntropy(list(genusCount[\"Pct\"]))\n",
    "genusSimpson = tP.simpson_di(list(genusCount['Genus']), list(genusCount['Frequency']))\n",
    "\n",
    "# family frequency and pct\n",
    "familyCount= cleanTrees.groupby(\"family\").sum().reset_index().rename(columns={\"BasalArea\":\"Frequency\"})\n",
    "familyCount[\"Pct\"] = familyCount[\"Frequency\"]/sum(familyCount['Frequency'])\n",
    "familyShannon = tP.ShannonEntropy(list(familyCount[\"Pct\"]))\n",
    "familySimpson = tP.simpson_di(list(familyCount['family']), list(familyCount['Frequency']))\n",
    "\n",
    "print(f\"Most Abundant Species %: {max(speciesCount['Pct'])}\\nSpecies Shannon Index: {speciesShannon}\\nSpecies Simpson Index: {speciesSimpson}\\nMost Abundant Genus %: {max(genusCount['Pct'])}\\nGenus Shannon Index: {genusShannon}\\nGenus Simpson Index: {genusSimpson}\\nMost Abundant Family %: {max(familyCount['Pct'])}\\nFamily Shannon Index: {familyShannon}\\nFamily Simpson Index: {familySimpson}\\n\")"
   ]
  },
  {
   "cell_type": "markdown",
   "metadata": {},
   "source": [
    "# Species Makeup"
   ]
  },
  {
   "cell_type": "code",
   "execution_count": 26,
   "metadata": {},
   "outputs": [],
   "source": [
    "treeMakeup = tP.speciesParse(cleanTrees, grid)"
   ]
  },
  {
   "cell_type": "code",
   "execution_count": 27,
   "metadata": {},
   "outputs": [
    {
     "data": {
      "text/plain": [
       "0.22866211079947543"
      ]
     },
     "execution_count": 27,
     "metadata": {},
     "output_type": "execute_result"
    }
   ],
   "source": [
    "max(treeMakeup[treeMakeup.filter(like='sumPCT').columns].iloc[0])"
   ]
  },
  {
   "cell_type": "code",
   "execution_count": 28,
   "metadata": {},
   "outputs": [
    {
     "data": {
      "text/plain": [
       "0.16011071358342915"
      ]
     },
     "execution_count": 28,
     "metadata": {},
     "output_type": "execute_result"
    }
   ],
   "source": [
    "max(treeMakeup[treeMakeup.filter(like='sumPCT').columns].iloc[1])"
   ]
  },
  {
   "cell_type": "code",
   "execution_count": 16,
   "metadata": {},
   "outputs": [],
   "source": [
    "treeMakeup.to_csv(f\"./csv/{city}InsideOutsideSpeciesMakeupWithStems.csv\")"
   ]
  },
  {
   "cell_type": "markdown",
   "metadata": {},
   "source": [
    "# Genus Makeup"
   ]
  },
  {
   "cell_type": "code",
   "execution_count": 29,
   "metadata": {},
   "outputs": [],
   "source": [
    "treeMakeup = tP.genusParse(cleanTrees, grid)"
   ]
  },
  {
   "cell_type": "code",
   "execution_count": 30,
   "metadata": {},
   "outputs": [
    {
     "data": {
      "text/plain": [
       "0.23054781159044005"
      ]
     },
     "execution_count": 30,
     "metadata": {},
     "output_type": "execute_result"
    }
   ],
   "source": [
    "max(treeMakeup[treeMakeup.filter(like='sumPCT').columns].iloc[0])"
   ]
  },
  {
   "cell_type": "code",
   "execution_count": 31,
   "metadata": {},
   "outputs": [
    {
     "data": {
      "text/plain": [
       "0.16011071358343013"
      ]
     },
     "execution_count": 31,
     "metadata": {},
     "output_type": "execute_result"
    }
   ],
   "source": [
    "max(treeMakeup[treeMakeup.filter(like='sumPCT').columns].iloc[1])"
   ]
  },
  {
   "cell_type": "code",
   "execution_count": 20,
   "metadata": {},
   "outputs": [],
   "source": [
    "treeMakeup.to_csv(f\"./csv/{city}InsideOutsideGenusMakeupWithStems.csv\")"
   ]
  },
  {
   "cell_type": "markdown",
   "metadata": {},
   "source": [
    "# Family Makeup"
   ]
  },
  {
   "cell_type": "code",
   "execution_count": 32,
   "metadata": {},
   "outputs": [],
   "source": [
    "treeMakeup = tP.familyParse(cleanTrees, grid)"
   ]
  },
  {
   "cell_type": "code",
   "execution_count": 35,
   "metadata": {},
   "outputs": [
    {
     "data": {
      "text/plain": [
       "0.23540977892366838"
      ]
     },
     "execution_count": 35,
     "metadata": {},
     "output_type": "execute_result"
    }
   ],
   "source": [
    "max(treeMakeup[treeMakeup.filter(like='sumPCT').columns].iloc[0])"
   ]
  },
  {
   "cell_type": "code",
   "execution_count": 36,
   "metadata": {},
   "outputs": [
    {
     "data": {
      "text/plain": [
       "0.16115091148994087"
      ]
     },
     "execution_count": 36,
     "metadata": {},
     "output_type": "execute_result"
    }
   ],
   "source": [
    "max(treeMakeup[treeMakeup.filter(like='sumPCT').columns].iloc[1])"
   ]
  },
  {
   "cell_type": "code",
   "execution_count": 37,
   "metadata": {},
   "outputs": [],
   "source": [
    "treeMakeup.to_csv(f\"./csv/{city}InsideOutsideFamilyMakeupWithStems.csv\")"
   ]
  },
  {
   "cell_type": "markdown",
   "metadata": {},
   "source": [
    "# Combine"
   ]
  },
  {
   "cell_type": "code",
   "execution_count": 38,
   "metadata": {},
   "outputs": [],
   "source": [
    "speciesDf = pd.read_csv(f\"./csv/{city}InsideOutsideSpeciesMakeupWithStems.csv\")\n",
    "genusDf = pd.read_csv(f\"./csv/{city}InsideOutsideGenusMakeupWithStems.csv\")\n",
    "familyDf = pd.read_csv(f\"./csv/{city}InsideOutsideFamilyMakeupWithStems.csv\")\n",
    "mergedDf = pd.concat([speciesDf, genusDf, familyDf], axis=1)\n",
    "mergedDf = mergedDf[list(mergedDf.filter(like=\"Diversity\").columns)+list(mergedDf.filter(like=\"Abundant\").columns)+[\"sum\",\"num\"]]\n",
    "mergedDf.to_csv(f\"./csv/{city}InsideOutsideOutputWithStems.csv\")"
   ]
  },
  {
   "cell_type": "code",
   "execution_count": null,
   "metadata": {},
   "outputs": [],
   "source": []
  }
 ],
 "metadata": {
  "kernelspec": {
   "display_name": "Python 3",
   "language": "python",
   "name": "python3"
  },
  "language_info": {
   "codemirror_mode": {
    "name": "ipython",
    "version": 3
   },
   "file_extension": ".py",
   "mimetype": "text/x-python",
   "name": "python",
   "nbconvert_exporter": "python",
   "pygments_lexer": "ipython3",
   "version": "3.8.3"
  }
 },
 "nbformat": 4,
 "nbformat_minor": 4
}
