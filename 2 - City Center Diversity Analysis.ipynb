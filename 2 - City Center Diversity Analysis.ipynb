{
 "cells": [
  {
   "cell_type": "markdown",
   "metadata": {},
   "source": [
    "# Analyzing Street Trees: Diversity Indices and the 10/20/30 Rule\n",
    "\n",
    "This notebook analyzes the diversity indices of the street trees inside and outside the city center you've selected, and then check the tree inventory according to the 10/20/30 rule, discussed below."
   ]
  },
  {
   "cell_type": "code",
   "execution_count": 44,
   "metadata": {},
   "outputs": [],
   "source": [
    "# library import\n",
    "import pandas as pd\n",
    "import geopandas as gpd\n",
    "import numpy as np\n",
    "import matplotlib.pyplot as plt\n",
    "import descartes\n",
    "import treeParsing as tP"
   ]
  },
  {
   "cell_type": "markdown",
   "metadata": {},
   "source": [
    "# Import Tree Inventory and City Center Boundary\n",
    "\n",
    "Import your tree data and city center boundary data below. These data may use any geospatial data format (SHP, Geojson, Geopackage) and should be in the same coordinate projection.\n",
    "\n",
    "Your tree data will need the following columns:\n",
    "* Point geographic location\n",
    "* Diameter at breast height (DBH)\n",
    "* Tree Scientific Name\n",
    "* Tree Genus Name\n",
    "* Tree Family Name\n",
    "\n",
    "Your city center geography simply needs to be a single, dissolved geometry representing your city center area."
   ]
  },
  {
   "cell_type": "code",
   "execution_count": 45,
   "metadata": {},
   "outputs": [],
   "source": [
    "### Enter the path to your data below ###\n",
    "tree_data_path = 'example_data/trees_paris.gpkg'\n",
    "tree_data = gpd.read_file(tree_data_path)"
   ]
  },
  {
   "cell_type": "code",
   "execution_count": 46,
   "metadata": {},
   "outputs": [
    {
     "data": {
      "text/plain": [
       "<matplotlib.axes._subplots.AxesSubplot at 0x14e97c86188>"
      ]
     },
     "execution_count": 46,
     "metadata": {},
     "output_type": "execute_result"
    },
    {
     "data": {
      "image/png": "[encoded data removed]",
      "text/plain": [
       "<Figure size 432x288 with 1 Axes>"
      ]
     },
     "metadata": {
      "needs_background": "light"
     },
     "output_type": "display_data"
    }
   ],
   "source": [
    "tree_data.plot()"
   ]
  },
  {
   "cell_type": "code",
   "execution_count": 47,
   "metadata": {},
   "outputs": [],
   "source": [
    "### Enter the path to your data below ###\n",
    "city_center_boundary_path = 'example_data/paris.gpkg'\n",
    "city_center = gpd.read_file(city_center_boundary_path)"
   ]
  },
  {
   "cell_type": "code",
   "execution_count": 48,
   "metadata": {},
   "outputs": [
    {
     "data": {
      "text/plain": [
       "<matplotlib.axes._subplots.AxesSubplot at 0x14e97d1b2c8>"
      ]
     },
     "execution_count": 48,
     "metadata": {},
     "output_type": "execute_result"
    },
    {
     "data": {
      "image/png": "[encoded data removed]",
      "text/plain": [
       "<Figure size 432x288 with 1 Axes>"
      ]
     },
     "metadata": {
      "needs_background": "light"
     },
     "output_type": "display_data"
    }
   ],
   "source": [
    "city_center.plot()"
   ]
  },
  {
   "cell_type": "markdown",
   "metadata": {},
   "source": [
    "# Clean Data and Calculate Basal Area\n",
    "\n",
    "To start, we need to remove features missing data and remove the top quantile of data. Removing any missing data and the top quantile helps remove erroneous entries that are too large or too small than what we would expect. If your data has already been cleaned, feel free to skip the second cell below."
   ]
  },
  {
   "cell_type": "code",
   "execution_count": 49,
   "metadata": {},
   "outputs": [],
   "source": [
    "### Enter your column names here ###\n",
    "scientific_name_column = 'Scientific'\n",
    "genus_name_column = 'genus'\n",
    "family_name_column = 'family'\n",
    "diameter_breast_height_column = 'DBH'"
   ]
  },
  {
   "cell_type": "code",
   "execution_count": 50,
   "metadata": {},
   "outputs": [],
   "source": [
    "### Ignore if data is already cleaned ###\n",
    "# Exclude Data Missing DBH\n",
    "tree_data = tree_data[tree_data[diameter_breast_height_column]>0]\n",
    "\n",
    "# Exclude data larger than the 99th quantile (often erroneously large)\n",
    "tree_data = tree_data[tree_data[diameter_breast_height_column]<=tree_data.quantile(0.99).DBH]"
   ]
  },
  {
   "cell_type": "code",
   "execution_count": 51,
   "metadata": {},
   "outputs": [],
   "source": [
    "# Calculate Basal Area\n",
    "basal_area_column =  'BA'\n",
    "tree_data[basal_area_column] = tree_data[diameter_breast_height_column]**2 * 0.00007854"
   ]
  },
  {
   "cell_type": "markdown",
   "metadata": {},
   "source": [
    "# Calculating Simpson and Shannon Diversity Indices\n",
    "\n",
    "The following cells spatially join your city center geometry to your tree inventory data, and then calculates the simpson and shannon diversity indices for the city center, area outside the city center -- based on area and tree count."
   ]
  },
  {
   "cell_type": "code",
   "execution_count": 97,
   "metadata": {},
   "outputs": [],
   "source": [
    "# Add dummy column to city center geometry\n",
    "city_center['inside'] = True\n",
    "city_center = city_center[['geometry','inside']]"
   ]
  },
  {
   "cell_type": "code",
   "execution_count": 98,
   "metadata": {},
   "outputs": [],
   "source": [
    "# Spatial Join -- this may take a while\n",
    "sjoin_tree_data = gpd.sjoin(tree_data, city_center, how=\"left\")"
   ]
  },
  {
   "cell_type": "code",
   "execution_count": 54,
   "metadata": {},
   "outputs": [],
   "source": [
    "def GenerateIndices(label, df, scientific_name_column, genus_name_column, family_name_column, basal_area_column):\n",
    "    # Derive counts, areas, for species, genus, and family\n",
    "    species_count = df[[scientific_name_column, basal_area_column]].groupby(scientific_name_column).count().reset_index()\n",
    "    species_area = df[[scientific_name_column, basal_area_column]].groupby(scientific_name_column).sum().reset_index()\n",
    "\n",
    "    genus_count = df[[genus_name_column, basal_area_column]].groupby(genus_name_column).count().reset_index()\n",
    "    genus_area = df[[genus_name_column, basal_area_column]].groupby(genus_name_column).sum().reset_index()\n",
    "\n",
    "    family_count = df[[family_name_column, basal_area_column]].groupby(family_name_column).count().reset_index()\n",
    "    family_area = df[[family_name_column, basal_area_column]].groupby(family_name_column).sum().reset_index()\n",
    "\n",
    "\n",
    "    # Calculate Percentages by count and area\n",
    "    species_count[\"Pct\"] = species_count[basal_area_column]/sum(species_count[basal_area_column])\n",
    "    species_area[\"Pct\"]  = species_area[basal_area_column]/sum(species_area[basal_area_column])\n",
    "\n",
    "    genus_count[\"Pct\"] = genus_count[basal_area_column]/sum(genus_count[basal_area_column])\n",
    "    genus_area[\"Pct\"] = genus_area[basal_area_column]/sum(genus_area[basal_area_column])\n",
    "\n",
    "    family_count[\"Pct\"] = family_count[basal_area_column]/sum(family_count[basal_area_column])\n",
    "    family_area[\"Pct\"] = family_area[basal_area_column]/sum(family_area[basal_area_column])\n",
    "\n",
    "    # Calculate Shannon Indices\n",
    "    species_shannon_count = tP.ShannonEntropy(list(species_count[\"Pct\"]))\n",
    "    species_shannon_area = tP.ShannonEntropy(list(species_area[\"Pct\"]))\n",
    "\n",
    "    genus_shannon_count = tP.ShannonEntropy(list(genus_count[\"Pct\"]))\n",
    "    genus_shannon_area = tP.ShannonEntropy(list(genus_area[\"Pct\"]))\n",
    "\n",
    "    family_shannon_count = tP.ShannonEntropy(list(family_count[\"Pct\"]))\n",
    "    family_shannon_area = tP.ShannonEntropy(list(family_area[\"Pct\"]))\n",
    "\n",
    "    # Calculate Simpson Indices\n",
    "    species_simpson_count = tP.simpson_di(list(species_count[scientific_name_column]), list(species_count[basal_area_column]))\n",
    "    species_simpson_area = tP.simpson_di(list(species_area[scientific_name_column]),list(species_area[basal_area_column]))\n",
    "\n",
    "    genus_simpson_count = tP.simpson_di(list(genus_count[genus_name_column]), list(genus_count[basal_area_column]))\n",
    "    genus_simpson_area = tP.simpson_di(list(genus_area[genus_name_column]), list(genus_area[basal_area_column]))\n",
    "\n",
    "    family_simpson_count = tP.simpson_di(list(family_count[family_name_column]), list(family_count[basal_area_column]))\n",
    "    family_simpson_area = tP.simpson_di(list(family_area[family_name_column]), list(family_area[basal_area_column]))\n",
    "\n",
    "    return {\n",
    "            'Geography':label,\n",
    "            'species_simpson_count': species_simpson_count,\n",
    "            'species_simpson_area': species_simpson_area,\n",
    "            'genus_simpson_count': genus_simpson_count,\n",
    "            'genus_simpson_area': genus_simpson_area,\n",
    "            'family_simpson_count': family_simpson_count,\n",
    "            'family_simpson_area': family_simpson_area,\n",
    "            'species_shannon_count': species_shannon_count,\n",
    "            'species_shannon_area': species_shannon_area,\n",
    "            'genus_shannon_count': genus_shannon_count,\n",
    "            'genus_shannon_area': genus_shannon_area,\n",
    "            'family_shannon_count': family_shannon_count,\n",
    "            'family_shannon_area': family_shannon_area\n",
    "        }"
   ]
  },
  {
   "cell_type": "code",
   "execution_count": 55,
   "metadata": {},
   "outputs": [
    {
     "data": {
      "text/html": [
       "<div>\n",
       "<style scoped>\n",
       "    .dataframe tbody tr th:only-of-type {\n",
       "        vertical-align: middle;\n",
       "    }\n",
       "\n",
       "    .dataframe tbody tr th {\n",
       "        vertical-align: top;\n",
       "    }\n",
       "\n",
       "    .dataframe thead th {\n",
       "        text-align: right;\n",
       "    }\n",
       "</style>\n",
       "<table border=\"1\" class=\"dataframe\">\n",
       "  <thead>\n",
       "    <tr style=\"text-align: right;\">\n",
       "      <th></th>\n",
       "      <th>Geography</th>\n",
       "      <th>species_simpson_count</th>\n",
       "      <th>species_simpson_area</th>\n",
       "      <th>genus_simpson_count</th>\n",
       "      <th>genus_simpson_area</th>\n",
       "      <th>family_simpson_count</th>\n",
       "      <th>family_simpson_area</th>\n",
       "      <th>species_shannon_count</th>\n",
       "      <th>species_shannon_area</th>\n",
       "      <th>genus_shannon_count</th>\n",
       "      <th>genus_shannon_area</th>\n",
       "      <th>family_shannon_count</th>\n",
       "      <th>family_shannon_area</th>\n",
       "    </tr>\n",
       "  </thead>\n",
       "  <tbody>\n",
       "    <tr>\n",
       "      <th>0</th>\n",
       "      <td>Inside City Center</td>\n",
       "      <td>0.830921</td>\n",
       "      <td>0.789103</td>\n",
       "      <td>0.695626</td>\n",
       "      <td>0.605508</td>\n",
       "      <td>0.689964</td>\n",
       "      <td>0.603462</td>\n",
       "      <td>2.625553</td>\n",
       "      <td>2.267669</td>\n",
       "      <td>1.939313</td>\n",
       "      <td>1.570327</td>\n",
       "      <td>1.788987</td>\n",
       "      <td>1.504692</td>\n",
       "    </tr>\n",
       "    <tr>\n",
       "      <th>1</th>\n",
       "      <td>Outside City Center</td>\n",
       "      <td>0.887075</td>\n",
       "      <td>0.795369</td>\n",
       "      <td>0.850146</td>\n",
       "      <td>0.749201</td>\n",
       "      <td>0.821799</td>\n",
       "      <td>0.730654</td>\n",
       "      <td>3.135827</td>\n",
       "      <td>2.459517</td>\n",
       "      <td>2.490724</td>\n",
       "      <td>1.947589</td>\n",
       "      <td>2.115954</td>\n",
       "      <td>1.738513</td>\n",
       "    </tr>\n",
       "  </tbody>\n",
       "</table>\n",
       "</div>"
      ],
      "text/plain": [
       "             Geography  species_simpson_count  species_simpson_area  \\\n",
       "0   Inside City Center               0.830921              0.789103   \n",
       "1  Outside City Center               0.887075              0.795369   \n",
       "\n",
       "   genus_simpson_count  genus_simpson_area  family_simpson_count  \\\n",
       "0             0.695626            0.605508              0.689964   \n",
       "1             0.850146            0.749201              0.821799   \n",
       "\n",
       "   family_simpson_area  species_shannon_count  species_shannon_area  \\\n",
       "0             0.603462               2.625553              2.267669   \n",
       "1             0.730654               3.135827              2.459517   \n",
       "\n",
       "   genus_shannon_count  genus_shannon_area  family_shannon_count  \\\n",
       "0             1.939313            1.570327              1.788987   \n",
       "1             2.490724            1.947589              2.115954   \n",
       "\n",
       "   family_shannon_area  \n",
       "0             1.504692  \n",
       "1             1.738513  "
      ]
     },
     "execution_count": 55,
     "metadata": {},
     "output_type": "execute_result"
    }
   ],
   "source": [
    "# Generate results and load into dataframe\n",
    "temp_results = []\n",
    "\n",
    "city_center_data = sjoin_tree_data[sjoin_tree_data.inside == True]\n",
    "outside_center_data = sjoin_tree_data[sjoin_tree_data.inside != True]\n",
    "\n",
    "temp_results.append(\n",
    "    GenerateIndices(\n",
    "    'Inside City Center', \n",
    "    city_center_data,\n",
    "    scientific_name_column, \n",
    "    genus_name_column, \n",
    "    family_name_column, \n",
    "    basal_area_column\n",
    "    )\n",
    ")\n",
    "\n",
    "\n",
    "temp_results.append(\n",
    "    GenerateIndices(\n",
    "    'Outside City Center', \n",
    "    outside_center_data,\n",
    "    scientific_name_column, \n",
    "    genus_name_column, \n",
    "    family_name_column, \n",
    "    basal_area_column\n",
    "    )\n",
    ")\n",
    "\n",
    "results = pd.DataFrame(temp_results)\n",
    "results.head()"
   ]
  },
  {
   "cell_type": "code",
   "execution_count": 80,
   "metadata": {},
   "outputs": [],
   "source": [
    "# Split up results for plotting\n",
    "shannon_area = results.round(4)[['species_shannon_area','genus_shannon_area','family_shannon_area']].values\n",
    "shannon_count = results.round(4)[['species_shannon_count','genus_shannon_count','family_shannon_count']].values\n",
    "simpson_area = results.round(4)[['species_simpson_area','genus_simpson_area','family_simpson_area']].values\n",
    "simpson_count = results.round(4)[['species_simpson_count','genus_simpson_count','family_simpson_count']].values"
   ]
  },
  {
   "cell_type": "code",
   "execution_count": 102,
   "metadata": {},
   "outputs": [
    {
     "data": {
      "image/png": "[encoded data removed]",
      "text/plain": [
       "<Figure size 1008x504 with 4 Axes>"
      ]
     },
     "metadata": {
      "needs_background": "light"
     },
     "output_type": "display_data"
    }
   ],
   "source": [
    "def autolabel(rects, axis):\n",
    "    \"\"\"Attach a text label above each bar in *rects*, displaying its height.\"\"\"\n",
    "    for rect in rects:\n",
    "        height = rect.get_height()\n",
    "        axis.annotate('{}'.format(height),\n",
    "                    xy=(rect.get_x() + rect.get_width() / 2, height),\n",
    "                    xytext=(0, 3),  # 3 points vertical offset\n",
    "                    textcoords=\"offset points\",\n",
    "                    ha='center', va='bottom')\n",
    "        \n",
    "labels = ['Species', 'Genus', 'Family']\n",
    "plt.rcParams[\"figure.figsize\"] = [14, 7]\n",
    "\n",
    "x = np.arange(len(labels))  # the label locations\n",
    "width = 0.35  # the width of the bars\n",
    "\n",
    "fig, axs = plt.subplots(2, 2)\n",
    "\n",
    "rects1 = [axs[0,0].bar(x - width/2, shannon_area[0], width, color=\"lightsteelblue\", label='City Center'), axs[0,0].bar(x + width/2, shannon_area[1], width, color=\"darkgreen\", label='Outside City Center')]\n",
    "rects2 = [axs[0,1].bar(x - width/2, shannon_count[0], width, color=\"lightsteelblue\", label='City Center'), axs[0,1].bar(x + width/2, shannon_count[1], width, color=\"darkgreen\", label='Outside City Center')]\n",
    "rects3 = [axs[1,0].bar(x - width/2, simpson_area[0], width, color=\"lightsteelblue\", label='City Center'), axs[1,0].bar(x + width/2, simpson_area[1], width, color=\"darkgreen\", label='Outside City Center')]\n",
    "rects4 = [axs[1,1].bar(x - width/2, simpson_count[0], width, color=\"lightsteelblue\", label='City Center'), axs[1,1].bar(x + width/2, simpson_count[1], width, color=\"darkgreen\", label='Outside City Center')]\n",
    "\n",
    "axs[0,0].set_ylabel('Diversity Index')\n",
    "axs[0,0].set_title('Shannon Diversity by Basal Area')\n",
    "axs[0,0].set_xticks(x)\n",
    "axs[0,0].set_xticklabels(labels)\n",
    "axs[0,0].legend()\n",
    "\n",
    "axs[0,1].set_ylabel('Diversity Index')\n",
    "axs[0,1].set_title('Shannon Diversity by Count')\n",
    "axs[0,1].set_xticks(x)\n",
    "axs[0,1].set_xticklabels(labels)\n",
    "axs[0,1].legend()\n",
    "\n",
    "axs[1,0].set_ylabel('Diversity Index')\n",
    "axs[1,0].set_title('Simpson Diversity by Basal Area')\n",
    "axs[1,0].set_xticks(x)\n",
    "axs[1,0].set_xticklabels(labels)\n",
    "axs[1,0].legend()\n",
    "\n",
    "axs[1,1].set_ylabel('Diversity Index')\n",
    "axs[1,1].set_title('Simpson Diversity by Count')\n",
    "axs[1,1].set_xticks(x)\n",
    "axs[1,1].set_xticklabels(labels)\n",
    "axs[1,1].legend()\n",
    "\n",
    "autolabel(rects1[0], axs[0,0])\n",
    "autolabel(rects1[1], axs[0,0])\n",
    "autolabel(rects2[0], axs[0,1])\n",
    "autolabel(rects2[1], axs[0,1])\n",
    "autolabel(rects3[0], axs[1,0])\n",
    "autolabel(rects3[1], axs[1,0])\n",
    "autolabel(rects4[0], axs[1,1])\n",
    "autolabel(rects4[1], axs[1,1])\n",
    "\n",
    "\n",
    "axs[0,0].set_ylim([0,max(shannon_count.max(), shannon_area.max())+0.5])\n",
    "axs[0,1].set_ylim([0,max(shannon_count.max(), shannon_area.max())+0.5])\n",
    "axs[1,0].set_ylim([0,1])\n",
    "axs[1,1].set_ylim([0,1])\n",
    "\n",
    "fig.tight_layout()\n",
    "\n",
    "plt.show()"
   ]
  },
  {
   "cell_type": "markdown",
   "metadata": {},
   "source": [
    "# Interpreting these Results\n",
    "\n",
    "For both indices, a higher score represents a more diverse body of street trees. If your city follows our general findings, the city center tends to be less diverse. The results provide some context on the evenness of the diversity in the city center and outside areas. The cells below calculate how well your street trees adhere to the 10/20/30 standard."
   ]
  },
  {
   "cell_type": "markdown",
   "metadata": {},
   "source": [
    "____\n",
    "# 10/20/30 Standard\n",
    "\n",
    "The 10/20/30 rule suggests that urban forests should be made up of no more than 10% from one species, 20% from one genus, or 30% from one family. A more optimistic version, the 5/10/15 rule, argues that those values should be halved. \n",
    "\n",
    "Below, we'll calculate how well your tree inventory data adheres to these rules and then chart the results."
   ]
  },
  {
   "cell_type": "code",
   "execution_count": 132,
   "metadata": {},
   "outputs": [],
   "source": [
    "def GetPctRule(df, column, basal_area_column, predicate, location):\n",
    "    if predicate == 'area':\n",
    "        tempData = df[[basal_area_column,column]].groupby(column).sum().sort_values(basal_area_column, ascending=False).reset_index()\n",
    "    else:\n",
    "        tempData = df[[basal_area_column,column]].groupby(column).count().sort_values(basal_area_column, ascending=False).reset_index()\n",
    "    \n",
    "    total = tempData[basal_area_column].sum()\n",
    "    \n",
    "    return {\n",
    "        'name':column,\n",
    "        'location': location,\n",
    "        'predicate':predicate,\n",
    "        'most common': tempData.iloc[0][column],\n",
    "        'amount': tempData.iloc[0][basal_area_column],\n",
    "        'percent': round(tempData.iloc[0][basal_area_column]/total*100,2),\n",
    "        'total': total,\n",
    "    }"
   ]
  },
  {
   "cell_type": "code",
   "execution_count": 134,
   "metadata": {},
   "outputs": [
    {
     "data": {
      "text/html": [
       "<div>\n",
       "<style scoped>\n",
       "    .dataframe tbody tr th:only-of-type {\n",
       "        vertical-align: middle;\n",
       "    }\n",
       "\n",
       "    .dataframe tbody tr th {\n",
       "        vertical-align: top;\n",
       "    }\n",
       "\n",
       "    .dataframe thead th {\n",
       "        text-align: right;\n",
       "    }\n",
       "</style>\n",
       "<table border=\"1\" class=\"dataframe\">\n",
       "  <thead>\n",
       "    <tr style=\"text-align: right;\">\n",
       "      <th></th>\n",
       "      <th>name</th>\n",
       "      <th>location</th>\n",
       "      <th>predicate</th>\n",
       "      <th>most common</th>\n",
       "      <th>amount</th>\n",
       "      <th>percent</th>\n",
       "      <th>total</th>\n",
       "    </tr>\n",
       "  </thead>\n",
       "  <tbody>\n",
       "    <tr>\n",
       "      <th>0</th>\n",
       "      <td>Scientific</td>\n",
       "      <td>City Center</td>\n",
       "      <td>area</td>\n",
       "      <td>Platanus  Hispanica</td>\n",
       "      <td>405.118253</td>\n",
       "      <td>39.83</td>\n",
       "      <td>1017.000658</td>\n",
       "    </tr>\n",
       "    <tr>\n",
       "      <th>1</th>\n",
       "      <td>Scientific</td>\n",
       "      <td>City Center</td>\n",
       "      <td>count</td>\n",
       "      <td>Platanus  Hispanica</td>\n",
       "      <td>4699.000000</td>\n",
       "      <td>35.94</td>\n",
       "      <td>13074.000000</td>\n",
       "    </tr>\n",
       "    <tr>\n",
       "      <th>2</th>\n",
       "      <td>genus</td>\n",
       "      <td>City Center</td>\n",
       "      <td>area</td>\n",
       "      <td>Platanus</td>\n",
       "      <td>618.680725</td>\n",
       "      <td>60.86</td>\n",
       "      <td>1016.540898</td>\n",
       "    </tr>\n",
       "    <tr>\n",
       "      <th>3</th>\n",
       "      <td>genus</td>\n",
       "      <td>City Center</td>\n",
       "      <td>count</td>\n",
       "      <td>Platanus</td>\n",
       "      <td>6853.000000</td>\n",
       "      <td>52.45</td>\n",
       "      <td>13065.000000</td>\n",
       "    </tr>\n",
       "    <tr>\n",
       "      <th>4</th>\n",
       "      <td>family</td>\n",
       "      <td>City Center</td>\n",
       "      <td>area</td>\n",
       "      <td>Platanaceae</td>\n",
       "      <td>618.680725</td>\n",
       "      <td>60.86</td>\n",
       "      <td>1016.540898</td>\n",
       "    </tr>\n",
       "  </tbody>\n",
       "</table>\n",
       "</div>"
      ],
      "text/plain": [
       "         name     location predicate          most common       amount  \\\n",
       "0  Scientific  City Center      area  Platanus  Hispanica   405.118253   \n",
       "1  Scientific  City Center     count  Platanus  Hispanica  4699.000000   \n",
       "2       genus  City Center      area             Platanus   618.680725   \n",
       "3       genus  City Center     count             Platanus  6853.000000   \n",
       "4      family  City Center      area          Platanaceae   618.680725   \n",
       "\n",
       "   percent         total  \n",
       "0    39.83   1017.000658  \n",
       "1    35.94  13074.000000  \n",
       "2    60.86   1016.540898  \n",
       "3    52.45  13065.000000  \n",
       "4    60.86   1016.540898  "
      ]
     },
     "execution_count": 134,
     "metadata": {},
     "output_type": "execute_result"
    }
   ],
   "source": [
    "temp_results = []\n",
    "\n",
    "for location in ['City Center', 'Outside City Center']:\n",
    "    for column in [scientific_name_column, genus_name_column, family_name_column]:\n",
    "        for predicate in ['area', 'count']:\n",
    "            if location == 'City Center':\n",
    "                df = city_center_data\n",
    "            else:\n",
    "                df = outside_center_data\n",
    "            temp_results.append(GetPctRule(df, column, basal_area_column, predicate, location))\n",
    "            \n",
    "results = pd.DataFrame(temp_results)\n",
    "results.head()"
   ]
  },
  {
   "cell_type": "code",
   "execution_count": 193,
   "metadata": {},
   "outputs": [
    {
     "data": {
      "text/html": [
       "<div>\n",
       "<style scoped>\n",
       "    .dataframe tbody tr th:only-of-type {\n",
       "        vertical-align: middle;\n",
       "    }\n",
       "\n",
       "    .dataframe tbody tr th {\n",
       "        vertical-align: top;\n",
       "    }\n",
       "\n",
       "    .dataframe thead th {\n",
       "        text-align: right;\n",
       "    }\n",
       "</style>\n",
       "<table border=\"1\" class=\"dataframe\">\n",
       "  <thead>\n",
       "    <tr style=\"text-align: right;\">\n",
       "      <th></th>\n",
       "      <th>name</th>\n",
       "      <th>location</th>\n",
       "      <th>predicate</th>\n",
       "      <th>most common</th>\n",
       "      <th>amount</th>\n",
       "      <th>percent</th>\n",
       "      <th>total</th>\n",
       "    </tr>\n",
       "  </thead>\n",
       "  <tbody>\n",
       "    <tr>\n",
       "      <th>0</th>\n",
       "      <td>Scientific</td>\n",
       "      <td>City Center</td>\n",
       "      <td>area</td>\n",
       "      <td>Platanus  Hispanica</td>\n",
       "      <td>405.118253</td>\n",
       "      <td>39.83</td>\n",
       "      <td>1017.000658</td>\n",
       "    </tr>\n",
       "    <tr>\n",
       "      <th>1</th>\n",
       "      <td>Scientific</td>\n",
       "      <td>City Center</td>\n",
       "      <td>count</td>\n",
       "      <td>Platanus  Hispanica</td>\n",
       "      <td>4699.000000</td>\n",
       "      <td>35.94</td>\n",
       "      <td>13074.000000</td>\n",
       "    </tr>\n",
       "    <tr>\n",
       "      <th>6</th>\n",
       "      <td>Scientific</td>\n",
       "      <td>Outside City Center</td>\n",
       "      <td>area</td>\n",
       "      <td>Platanus  Hispanica</td>\n",
       "      <td>2716.026453</td>\n",
       "      <td>40.07</td>\n",
       "      <td>6778.510383</td>\n",
       "    </tr>\n",
       "    <tr>\n",
       "      <th>7</th>\n",
       "      <td>Scientific</td>\n",
       "      <td>Outside City Center</td>\n",
       "      <td>count</td>\n",
       "      <td>Platanus  Hispanica</td>\n",
       "      <td>25356.000000</td>\n",
       "      <td>28.25</td>\n",
       "      <td>89755.000000</td>\n",
       "    </tr>\n",
       "  </tbody>\n",
       "</table>\n",
       "</div>"
      ],
      "text/plain": [
       "         name             location predicate          most common  \\\n",
       "0  Scientific          City Center      area  Platanus  Hispanica   \n",
       "1  Scientific          City Center     count  Platanus  Hispanica   \n",
       "6  Scientific  Outside City Center      area  Platanus  Hispanica   \n",
       "7  Scientific  Outside City Center     count  Platanus  Hispanica   \n",
       "\n",
       "         amount  percent         total  \n",
       "0    405.118253    39.83   1017.000658  \n",
       "1   4699.000000    35.94  13074.000000  \n",
       "6   2716.026453    40.07   6778.510383  \n",
       "7  25356.000000    28.25  89755.000000  "
      ]
     },
     "execution_count": 193,
     "metadata": {},
     "output_type": "execute_result"
    }
   ],
   "source": [
    "results[results.name=='Scientific']"
   ]
  },
  {
   "cell_type": "code",
   "execution_count": 209,
   "metadata": {},
   "outputs": [
    {
     "data": {
      "image/png": "[encoded data removed]",
      "text/plain": [
       "<Figure size 1008x504 with 6 Axes>"
      ]
     },
     "metadata": {
      "needs_background": "light"
     },
     "output_type": "display_data"
    }
   ],
   "source": [
    "fig, axs = plt.subplots(3,2)\n",
    "\n",
    "columns = [scientific_name_column, genus_name_column, family_name_column]\n",
    "predicates=['area', 'count']\n",
    "max_value = results.percent.max() * 1.2\n",
    "\n",
    "for row in [0,1,2]:\n",
    "    temp_data = results[results.name==columns[row]]\n",
    "    for col in [0,1]:\n",
    "        temp_col_data = temp_data[temp_data.predicate==predicates[col]]\n",
    "        if row == 0:\n",
    "            x_value = 10\n",
    "            text=\"Species Benchmark\"\n",
    "        elif row == 1:\n",
    "            x_value = 20\n",
    "            text=\"Genus Benchmark\"\n",
    "        else:\n",
    "            x_value = 30\n",
    "            text=\"Family Benchmark\"\n",
    "         \n",
    "        if col == 0:\n",
    "            title = text + ' (Area)'\n",
    "        else:\n",
    "            title = text + ' (Count)'\n",
    "            \n",
    "        axs[row,col].set_xlabel('Percent of Tree Inventory')\n",
    "        axs[row,col].set_xlim([0,max_value])\n",
    "        axs[row,col].set_ylim([-0.1,0.1])\n",
    "        axs[row,col].get_yaxis().set_visible(False)\n",
    "        axs[row,col].plot([0,max_value], [0,0], c='darkgray')\n",
    "        axs[row,col].scatter(x=x_value, y=0, marker='|', s=1000, c='darkgray')\n",
    "        axs[row,col].text(x=x_value+1, y=0.02, linespacing=2, s=text, c='black')\n",
    "        axs[row,col].set_title(title)\n",
    "        axs[row,col].scatter(x=float(temp_col_data[temp_col_data.location=='City Center'].percent), y=0, s=100, c='lightsteelblue', label='City Center')\n",
    "        axs[row,col].scatter(x=float(temp_col_data[temp_col_data.location=='Outside City Center'].percent), y=0, s=100, c='darkgreen', label='Outside City Center')\n",
    "        axs[row,col].legend()\n",
    "plt.tight_layout()\n",
    "plt.show()"
   ]
  },
  {
   "cell_type": "markdown",
   "metadata": {},
   "source": [
    "# Interpreting these Results\n",
    "\n",
    "The closer the green dots are to the vertical benchmark line, the closer the tree inventory is to meeting the benchmark. Ideally, each dot should be at or to the left of that taxonomy level's benchmark (10, 20, or 30%). The charts on the left reflect tree species diversity by area, which may better reflect the street trees scaled to their mass, and the right column tracks the count of trees, which is more widely used in urban forestry. \n",
    "\n",
    "These charts do not define the success of the street tree inventory you are exploring, but they do highlight whether or not the data adheres to suggested urban forestry standards.\n",
    "___\n",
    "\n",
    "Want to share you results? Contact us at ***senseable-trees@mit.edu***, we'd love to hear how you used this notebook!"
   ]
  }
 ],
 "metadata": {
  "kernelspec": {
   "display_name": "Python 3",
   "language": "python",
   "name": "python3"
  },
  "language_info": {
   "codemirror_mode": {
    "name": "ipython",
    "version": 3
   },
   "file_extension": ".py",
   "mimetype": "text/x-python",
   "name": "python",
   "nbconvert_exporter": "python",
   "pygments_lexer": "ipython3",
   "version": "3.8.3"
  }
 },
 "nbformat": 4,
 "nbformat_minor": 4
}
